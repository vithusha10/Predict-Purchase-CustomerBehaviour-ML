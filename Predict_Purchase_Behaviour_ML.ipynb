{
  "nbformat": 4,
  "nbformat_minor": 0,
  "metadata": {
    "colab": {
      "provenance": []
    },
    "kernelspec": {
      "name": "python3",
      "display_name": "Python 3"
    },
    "language_info": {
      "name": "python"
    }
  },
  "cells": [
    {
      "cell_type": "code",
      "source": [
        "import pandas as pd\n",
        "import numpy as np\n",
        "\n",
        "# Generate synthetic data for demonstration\n",
        "np.random.seed(42)\n",
        "num_records = 1000\n",
        "\n",
        "# Creating synthetic customer data\n",
        "data = {\n",
        "    'TotalPurchaseAmount': np.random.randint(50, 500, num_records),\n",
        "    'Frequency': np.random.randint(1, 10, num_records),\n",
        "    'TimeSpent': np.random.randint(5, 60, num_records),\n",
        "    'PurchaseBehavior': np.random.choice(['High', 'Medium', 'Low'], num_records)\n",
        "}\n",
        "\n",
        "# Creating a DataFrame\n",
        "df = pd.DataFrame(data)\n",
        "\n",
        "# Saving to CSV file\n",
        "df.to_csv('customer_data.csv', index=False)\n"
      ],
      "metadata": {
        "id": "pOsX5CVNUzD3"
      },
      "execution_count": 1,
      "outputs": []
    },
    {
      "cell_type": "code",
      "execution_count": 2,
      "metadata": {
        "colab": {
          "base_uri": "https://localhost:8080/"
        },
        "id": "BJdzcOlzSJ72",
        "outputId": "54466aef-70e6-4567-af2f-2373c3b613e6"
      },
      "outputs": [
        {
          "output_type": "stream",
          "name": "stdout",
          "text": [
            "Model Accuracy: 0.325\n"
          ]
        },
        {
          "output_type": "execute_result",
          "data": {
            "text/plain": [
              "['customer_behavior_model.pkl']"
            ]
          },
          "metadata": {},
          "execution_count": 2
        }
      ],
      "source": [
        "# Import libraries\n",
        "import pandas as pd\n",
        "from sklearn.model_selection import train_test_split\n",
        "from sklearn.ensemble import RandomForestClassifier\n",
        "from sklearn.metrics import accuracy_score\n",
        "import joblib\n",
        "\n",
        "# 1. Data Collection and Preparation\n",
        "\n",
        "data = pd.read_csv('customer_data.csv')\n",
        "\n",
        "# Preprocessing: Feature selection and target variable\n",
        "features = ['TotalPurchaseAmount', 'Frequency', 'TimeSpent']\n",
        "target = 'PurchaseBehavior'\n",
        "\n",
        "X = data[features]\n",
        "y = data[target]\n",
        "\n",
        "# 2. Train-Test Split\n",
        "X_train, X_test, y_train, y_test = train_test_split(X, y, test_size=0.2, random_state=42)\n",
        "\n",
        "# 3. Model Building\n",
        "model = RandomForestClassifier(n_estimators=100, random_state=42)\n",
        "model.fit(X_train, y_train)\n",
        "\n",
        "# 4. Model Evaluation\n",
        "predictions = model.predict(X_test)\n",
        "accuracy = accuracy_score(y_test, predictions)\n",
        "print(f\"Model Accuracy: {accuracy}\")\n",
        "\n",
        "# 5. Model Deployment (saving the trained model)\n",
        "joblib.dump(model, 'customer_behavior_model.pkl')\n"
      ]
    }
  ]
}