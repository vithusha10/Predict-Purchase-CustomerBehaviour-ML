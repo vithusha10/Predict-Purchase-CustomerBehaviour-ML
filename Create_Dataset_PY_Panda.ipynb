{
  "nbformat": 4,
  "nbformat_minor": 0,
  "metadata": {
    "colab": {
      "provenance": []
    },
    "kernelspec": {
      "name": "python3",
      "display_name": "Python 3"
    },
    "language_info": {
      "name": "python"
    }
  },
  "cells": [
    {
      "cell_type": "code",
      "execution_count": 3,
      "metadata": {
        "id": "YY5tVpqoS8QS"
      },
      "outputs": [],
      "source": [
        "import pandas as pd\n",
        "import numpy as np\n",
        "\n",
        "# Generate synthetic data for demonstration\n",
        "np.random.seed(42)\n",
        "num_records = 1000\n",
        "\n",
        "# Creating synthetic customer data\n",
        "data = {\n",
        "    'TotalPurchaseAmount': np.random.randint(50, 500, num_records),\n",
        "    'Frequency': np.random.randint(1, 10, num_records),\n",
        "    'TimeSpent': np.random.randint(5, 60, num_records),\n",
        "    'PurchaseBehavior': np.random.choice(['High', 'Medium', 'Low'], num_records)\n",
        "}\n",
        "\n",
        "# Creating a DataFrame\n",
        "df = pd.DataFrame(data)\n",
        "\n",
        "# Saving to CSV file\n",
        "df.to_csv('customer_data.csv', index=False)\n",
        "\n"
      ]
    },
    {
      "cell_type": "code",
      "source": [
        "#Read created dataset (1st five rows)\n",
        "\n",
        "data = pd.read_csv('customer_data.csv')\n",
        "print(data.head())"
      ],
      "metadata": {
        "colab": {
          "base_uri": "https://localhost:8080/"
        },
        "id": "kRKvsHRnVteA",
        "outputId": "5edc9bce-83cd-4b3f-8ef6-93bf81a61301"
      },
      "execution_count": 8,
      "outputs": [
        {
          "output_type": "stream",
          "name": "stdout",
          "text": [
            "   TotalPurchaseAmount  Frequency  TimeSpent PurchaseBehavior\n",
            "0                  152          5         51           Medium\n",
            "1                  485          4         44             High\n",
            "2                  398          8         53             High\n",
            "3                  320          1         16           Medium\n",
            "4                  156          1         31             High\n"
          ]
        }
      ]
    },
    {
      "cell_type": "code",
      "source": [],
      "metadata": {
        "id": "Vu8Sd7kaWO8S"
      },
      "execution_count": null,
      "outputs": []
    }
  ]
}